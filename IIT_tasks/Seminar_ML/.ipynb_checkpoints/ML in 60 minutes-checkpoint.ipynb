{
 "cells": [
  {
   "cell_type": "markdown",
   "metadata": {},
   "source": [
    "# Машинное обучение за час #"
   ]
  },
  {
   "cell_type": "markdown",
   "metadata": {},
   "source": [
    "*Внимание! Этот ноутбук не способен заменить полноценный курс по ML или даже одну его лекцию. Цель данного ноутбука — показать, что это круто, интересно и даже может работать.*"
   ]
  },
  {
   "cell_type": "markdown",
   "metadata": {},
   "source": [
    "<img src=\"files/ml.jpg\">"
   ]
  },
  {
   "cell_type": "markdown",
   "metadata": {},
   "source": [
    "Если вы хотите и изучить теоретические и практические основы ML, авторы рекомендуют:\n",
    "1. [Курс машинному обучению от Воронцова](http://www.machinelearning.ru/wiki/index.php?title=%D0%9C%D0%B0%D1%88%D0%B8%D0%BD%D0%BD%D0%BE%D0%B5_%D0%BE%D0%B1%D1%83%D1%87%D0%B5%D0%BD%D0%B8%D0%B5_%28%D0%BA%D1%83%D1%80%D1%81_%D0%BB%D0%B5%D0%BA%D1%86%D0%B8%D0%B9%2C_%D0%9A.%D0%92.%D0%92%D0%BE%D1%80%D0%BE%D0%BD%D1%86%D0%BE%D0%B2%29)\n",
    "2. Любой другой курс на Coursera\n",
    "3. Очень, очень много практики"
   ]
  },
  {
   "cell_type": "markdown",
   "metadata": {},
   "source": [
    "## 1. Постановка задачи ##"
   ]
  },
  {
   "cell_type": "markdown",
   "metadata": {},
   "source": [
    "На [IMDb](https://www.imdb.com/) к каждому фильму расставлены теги (например, Comedy, Romance, Animation, Adventure). Давайте попробуем решить следующую задачу: по кадру из фильма определить, является ли этот фильм анимацией, или нет.  \n",
    "Подобная задача называется **задачей классификации** (это когда нам нужно отнести каждый объект к определённому классу, ещё есть **задача регрессии** — например, предсказывание температуры воздуха, и **задача ранжирования** — например, определение более релевантных документов в поисковой выдаче)"
   ]
  },
  {
   "cell_type": "markdown",
   "metadata": {},
   "source": [
    "<img src=\"files/hesher.jpg\">\n",
    "<h4><i><center>Это не анимация</center></i></h4>"
   ]
  },
  {
   "cell_type": "markdown",
   "metadata": {},
   "source": [
    "<img src=\"files/secret_kells.jpg\">\n",
    "<h4><i><center>Это анимация</center></i></h4>"
   ]
  },
  {
   "cell_type": "markdown",
   "metadata": {},
   "source": [
    "Как бы задача не была приближена к реальности, всегда стоит ввести более-менее формальную постановку задачи: мы должны ввести метрику качества, на основе которой будем принимать решение, а также понять входные и выходные параметры метода."
   ]
  },
  {
   "cell_type": "markdown",
   "metadata": {},
   "source": [
    "**Вопрос.** Что у на входе алгоритма? Что на выходе? Какая метрика качества?"
   ]
  },
  {
   "cell_type": "markdown",
   "metadata": {},
   "source": [
    "*Что я думаю по этому поводу*"
   ]
  },
  {
   "cell_type": "markdown",
   "metadata": {},
   "source": [
    "## 2. Загрузка данных ##"
   ]
  },
  {
   "cell_type": "markdown",
   "metadata": {},
   "source": [
    "Как правило, в таких задачах есть открытая выборка, ответы для которой доступны всем, и закрытая, на которой производится итоговое тестирование алгоритма. В нашем случае открытая выборка описывается в файле *train_dataset.json*, а закрытая в *test_dataset.json*  "
   ]
  },
  {
   "cell_type": "code",
   "execution_count": 1,
   "metadata": {},
   "outputs": [],
   "source": [
    "import json\n",
    "\n",
    "def load_json_from_file(filename):\n",
    "    with open(filename, \"r\") as f:\n",
    "        return json.load(f, strict=False)"
   ]
  },
  {
   "cell_type": "code",
   "execution_count": 2,
   "metadata": {},
   "outputs": [
    {
     "data": {
      "text/plain": [
       "{'idx': 0,\n",
       " 'image': 'train_data/images/0.jpg',\n",
       " 'title': 'バトル・ロワイアル',\n",
       " 'is_animation': False,\n",
       " 'score': 7.3}"
      ]
     },
     "execution_count": 2,
     "metadata": {},
     "output_type": "execute_result"
    }
   ],
   "source": [
    "train_data = load_json_from_file('train_dataset.json')\n",
    "train_data[0]"
   ]
  },
  {
   "cell_type": "code",
   "execution_count": 3,
   "metadata": {},
   "outputs": [
    {
     "data": {
      "text/plain": [
       "{'idx': 0,\n",
       " 'image': 'test_data/images/0.jpg',\n",
       " 'title': 'The Human Centipede (First Sequence)',\n",
       " 'is_animation': False,\n",
       " 'score': 4.9}"
      ]
     },
     "execution_count": 3,
     "metadata": {},
     "output_type": "execute_result"
    }
   ],
   "source": [
    "test_data = load_json_from_file('test_dataset.json')\n",
    "test_data[0]"
   ]
  },
  {
   "cell_type": "markdown",
   "metadata": {},
   "source": [
    "Информация о каждом фильме хранится в виде списка из словарей. Чтобы удобнее работать с такими данными, лучше представить их в виде именованных таблиц. Для этого нам поможет библиотека pandas:"
   ]
  },
  {
   "cell_type": "code",
   "execution_count": 4,
   "metadata": {},
   "outputs": [],
   "source": [
    "import pandas as pd"
   ]
  },
  {
   "cell_type": "code",
   "execution_count": 6,
   "metadata": {
    "scrolled": false
   },
   "outputs": [
    {
     "data": {
      "text/html": [
       "<div>\n",
       "<style scoped>\n",
       "    .dataframe tbody tr th:only-of-type {\n",
       "        vertical-align: middle;\n",
       "    }\n",
       "\n",
       "    .dataframe tbody tr th {\n",
       "        vertical-align: top;\n",
       "    }\n",
       "\n",
       "    .dataframe thead th {\n",
       "        text-align: right;\n",
       "    }\n",
       "</style>\n",
       "<table border=\"1\" class=\"dataframe\">\n",
       "  <thead>\n",
       "    <tr style=\"text-align: right;\">\n",
       "      <th></th>\n",
       "      <th>idx</th>\n",
       "      <th>image</th>\n",
       "      <th>title</th>\n",
       "      <th>is_animation</th>\n",
       "      <th>score</th>\n",
       "    </tr>\n",
       "  </thead>\n",
       "  <tbody>\n",
       "    <tr>\n",
       "      <th>0</th>\n",
       "      <td>0</td>\n",
       "      <td>train_data/images/0.jpg</td>\n",
       "      <td>バトル・ロワイアル</td>\n",
       "      <td>False</td>\n",
       "      <td>7.3</td>\n",
       "    </tr>\n",
       "    <tr>\n",
       "      <th>1</th>\n",
       "      <td>1</td>\n",
       "      <td>train_data/images/1.jpg</td>\n",
       "      <td>Return of the Seven</td>\n",
       "      <td>False</td>\n",
       "      <td>5.3</td>\n",
       "    </tr>\n",
       "    <tr>\n",
       "      <th>2</th>\n",
       "      <td>2</td>\n",
       "      <td>train_data/images/2.jpg</td>\n",
       "      <td>Madagascar</td>\n",
       "      <td>True</td>\n",
       "      <td>6.6</td>\n",
       "    </tr>\n",
       "    <tr>\n",
       "      <th>3</th>\n",
       "      <td>3</td>\n",
       "      <td>train_data/images/3.jpg</td>\n",
       "      <td>無間道III: 終極無間</td>\n",
       "      <td>False</td>\n",
       "      <td>7.0</td>\n",
       "    </tr>\n",
       "    <tr>\n",
       "      <th>4</th>\n",
       "      <td>4</td>\n",
       "      <td>train_data/images/4.jpg</td>\n",
       "      <td>The Net</td>\n",
       "      <td>False</td>\n",
       "      <td>5.6</td>\n",
       "    </tr>\n",
       "  </tbody>\n",
       "</table>\n",
       "</div>"
      ],
      "text/plain": [
       "   idx                    image                title  is_animation  score\n",
       "0    0  train_data/images/0.jpg            バトル・ロワイアル         False    7.3\n",
       "1    1  train_data/images/1.jpg  Return of the Seven         False    5.3\n",
       "2    2  train_data/images/2.jpg           Madagascar          True    6.6\n",
       "3    3  train_data/images/3.jpg         無間道III: 終極無間         False    7.0\n",
       "4    4  train_data/images/4.jpg              The Net         False    5.6"
      ]
     },
     "execution_count": 6,
     "metadata": {},
     "output_type": "execute_result"
    }
   ],
   "source": [
    "train_df = pd.DataFrame(train_data)\n",
    "test_df = pd.DataFrame(test_data)\n",
    "train_df.head()"
   ]
  },
  {
   "cell_type": "markdown",
   "metadata": {},
   "source": [
    "Зачем это нужно? Например, мы можем в одну строку посмотреть только те фильмы, которые являются анимационными:"
   ]
  },
  {
   "cell_type": "code",
   "execution_count": 8,
   "metadata": {},
   "outputs": [
    {
     "data": {
      "text/html": [
       "<div>\n",
       "<style scoped>\n",
       "    .dataframe tbody tr th:only-of-type {\n",
       "        vertical-align: middle;\n",
       "    }\n",
       "\n",
       "    .dataframe tbody tr th {\n",
       "        vertical-align: top;\n",
       "    }\n",
       "\n",
       "    .dataframe thead th {\n",
       "        text-align: right;\n",
       "    }\n",
       "</style>\n",
       "<table border=\"1\" class=\"dataframe\">\n",
       "  <thead>\n",
       "    <tr style=\"text-align: right;\">\n",
       "      <th></th>\n",
       "      <th>idx</th>\n",
       "      <th>image</th>\n",
       "      <th>title</th>\n",
       "      <th>is_animation</th>\n",
       "      <th>score</th>\n",
       "    </tr>\n",
       "  </thead>\n",
       "  <tbody>\n",
       "    <tr>\n",
       "      <th>2</th>\n",
       "      <td>2</td>\n",
       "      <td>train_data/images/2.jpg</td>\n",
       "      <td>Madagascar</td>\n",
       "      <td>True</td>\n",
       "      <td>6.6</td>\n",
       "    </tr>\n",
       "    <tr>\n",
       "      <th>8</th>\n",
       "      <td>8</td>\n",
       "      <td>train_data/images/8.jpg</td>\n",
       "      <td>装鬼兵MDガイスト2</td>\n",
       "      <td>True</td>\n",
       "      <td>4.6</td>\n",
       "    </tr>\n",
       "    <tr>\n",
       "      <th>15</th>\n",
       "      <td>15</td>\n",
       "      <td>train_data/images/15.jpg</td>\n",
       "      <td>Kung Fu Panda 3</td>\n",
       "      <td>True</td>\n",
       "      <td>6.7</td>\n",
       "    </tr>\n",
       "    <tr>\n",
       "      <th>21</th>\n",
       "      <td>21</td>\n",
       "      <td>train_data/images/21.jpg</td>\n",
       "      <td>Peter Pan</td>\n",
       "      <td>True</td>\n",
       "      <td>7.0</td>\n",
       "    </tr>\n",
       "    <tr>\n",
       "      <th>22</th>\n",
       "      <td>22</td>\n",
       "      <td>train_data/images/22.jpg</td>\n",
       "      <td>GHOST IN THE SHELL</td>\n",
       "      <td>True</td>\n",
       "      <td>7.8</td>\n",
       "    </tr>\n",
       "    <tr>\n",
       "      <th>...</th>\n",
       "      <td>...</td>\n",
       "      <td>...</td>\n",
       "      <td>...</td>\n",
       "      <td>...</td>\n",
       "      <td>...</td>\n",
       "    </tr>\n",
       "    <tr>\n",
       "      <th>2722</th>\n",
       "      <td>2722</td>\n",
       "      <td>train_data/images/2722.jpg</td>\n",
       "      <td>キングスグレイブ ファイナルファンタジーXV</td>\n",
       "      <td>True</td>\n",
       "      <td>6.8</td>\n",
       "    </tr>\n",
       "    <tr>\n",
       "      <th>2735</th>\n",
       "      <td>2735</td>\n",
       "      <td>train_data/images/2735.jpg</td>\n",
       "      <td>劇場版BLEACH The DiamondDust Rebellion もう一つの氷輪丸</td>\n",
       "      <td>True</td>\n",
       "      <td>6.5</td>\n",
       "    </tr>\n",
       "    <tr>\n",
       "      <th>2738</th>\n",
       "      <td>2738</td>\n",
       "      <td>train_data/images/2738.jpg</td>\n",
       "      <td>The Land Before Time XIII: The Wisdom of Friends</td>\n",
       "      <td>True</td>\n",
       "      <td>6.0</td>\n",
       "    </tr>\n",
       "    <tr>\n",
       "      <th>2741</th>\n",
       "      <td>2741</td>\n",
       "      <td>train_data/images/2741.jpg</td>\n",
       "      <td>Batman vs. Robin</td>\n",
       "      <td>True</td>\n",
       "      <td>6.8</td>\n",
       "    </tr>\n",
       "    <tr>\n",
       "      <th>2742</th>\n",
       "      <td>2742</td>\n",
       "      <td>train_data/images/2742.jpg</td>\n",
       "      <td>Shrek the Third</td>\n",
       "      <td>True</td>\n",
       "      <td>6.0</td>\n",
       "    </tr>\n",
       "  </tbody>\n",
       "</table>\n",
       "<p>440 rows × 5 columns</p>\n",
       "</div>"
      ],
      "text/plain": [
       "       idx                       image  \\\n",
       "2        2     train_data/images/2.jpg   \n",
       "8        8     train_data/images/8.jpg   \n",
       "15      15    train_data/images/15.jpg   \n",
       "21      21    train_data/images/21.jpg   \n",
       "22      22    train_data/images/22.jpg   \n",
       "...    ...                         ...   \n",
       "2722  2722  train_data/images/2722.jpg   \n",
       "2735  2735  train_data/images/2735.jpg   \n",
       "2738  2738  train_data/images/2738.jpg   \n",
       "2741  2741  train_data/images/2741.jpg   \n",
       "2742  2742  train_data/images/2742.jpg   \n",
       "\n",
       "                                                 title  is_animation  score  \n",
       "2                                           Madagascar          True    6.6  \n",
       "8                                           装鬼兵MDガイスト2          True    4.6  \n",
       "15                                     Kung Fu Panda 3          True    6.7  \n",
       "21                                           Peter Pan          True    7.0  \n",
       "22                                  GHOST IN THE SHELL          True    7.8  \n",
       "...                                                ...           ...    ...  \n",
       "2722                            キングスグレイブ ファイナルファンタジーXV          True    6.8  \n",
       "2735      劇場版BLEACH The DiamondDust Rebellion もう一つの氷輪丸          True    6.5  \n",
       "2738  The Land Before Time XIII: The Wisdom of Friends          True    6.0  \n",
       "2741                                  Batman vs. Robin          True    6.8  \n",
       "2742                                   Shrek the Third          True    6.0  \n",
       "\n",
       "[440 rows x 5 columns]"
      ]
     },
     "execution_count": 8,
     "metadata": {},
     "output_type": "execute_result"
    }
   ],
   "source": [
    "train_df[train_df.is_animation == True]"
   ]
  },
  {
   "cell_type": "markdown",
   "metadata": {},
   "source": [
    "Или посмотреть на самые высокооценённые фильмы:"
   ]
  },
  {
   "cell_type": "code",
   "execution_count": 9,
   "metadata": {},
   "outputs": [
    {
     "data": {
      "text/html": [
       "<div>\n",
       "<style scoped>\n",
       "    .dataframe tbody tr th:only-of-type {\n",
       "        vertical-align: middle;\n",
       "    }\n",
       "\n",
       "    .dataframe tbody tr th {\n",
       "        vertical-align: top;\n",
       "    }\n",
       "\n",
       "    .dataframe thead th {\n",
       "        text-align: right;\n",
       "    }\n",
       "</style>\n",
       "<table border=\"1\" class=\"dataframe\">\n",
       "  <thead>\n",
       "    <tr style=\"text-align: right;\">\n",
       "      <th></th>\n",
       "      <th>idx</th>\n",
       "      <th>image</th>\n",
       "      <th>title</th>\n",
       "      <th>is_animation</th>\n",
       "      <th>score</th>\n",
       "    </tr>\n",
       "  </thead>\n",
       "  <tbody>\n",
       "    <tr>\n",
       "      <th>2412</th>\n",
       "      <td>2412</td>\n",
       "      <td>train_data/images/2412.jpg</td>\n",
       "      <td>Bowery Battalion</td>\n",
       "      <td>False</td>\n",
       "      <td>10.0</td>\n",
       "    </tr>\n",
       "    <tr>\n",
       "      <th>2615</th>\n",
       "      <td>2615</td>\n",
       "      <td>train_data/images/2615.jpg</td>\n",
       "      <td>僕等がいた 前篇</td>\n",
       "      <td>False</td>\n",
       "      <td>9.0</td>\n",
       "    </tr>\n",
       "    <tr>\n",
       "      <th>2503</th>\n",
       "      <td>2503</td>\n",
       "      <td>train_data/images/2503.jpg</td>\n",
       "      <td>Bloodfight</td>\n",
       "      <td>False</td>\n",
       "      <td>9.0</td>\n",
       "    </tr>\n",
       "    <tr>\n",
       "      <th>2193</th>\n",
       "      <td>2193</td>\n",
       "      <td>train_data/images/2193.jpg</td>\n",
       "      <td>Dreileben: Etwas Besseres als den Tod</td>\n",
       "      <td>False</td>\n",
       "      <td>9.0</td>\n",
       "    </tr>\n",
       "    <tr>\n",
       "      <th>1754</th>\n",
       "      <td>1754</td>\n",
       "      <td>train_data/images/1754.jpg</td>\n",
       "      <td>傷物語　第二部〈Ⅱ熱血篇〉</td>\n",
       "      <td>True</td>\n",
       "      <td>8.9</td>\n",
       "    </tr>\n",
       "    <tr>\n",
       "      <th>319</th>\n",
       "      <td>319</td>\n",
       "      <td>train_data/images/319.jpg</td>\n",
       "      <td>人間の條件　第３部望郷篇／第４部戦雲篇</td>\n",
       "      <td>False</td>\n",
       "      <td>8.5</td>\n",
       "    </tr>\n",
       "    <tr>\n",
       "      <th>1784</th>\n",
       "      <td>1784</td>\n",
       "      <td>train_data/images/1784.jpg</td>\n",
       "      <td>Furia à Bahia pour OSS 117</td>\n",
       "      <td>False</td>\n",
       "      <td>8.5</td>\n",
       "    </tr>\n",
       "    <tr>\n",
       "      <th>566</th>\n",
       "      <td>566</td>\n",
       "      <td>train_data/images/566.jpg</td>\n",
       "      <td>Üvegtigris</td>\n",
       "      <td>False</td>\n",
       "      <td>8.5</td>\n",
       "    </tr>\n",
       "    <tr>\n",
       "      <th>1600</th>\n",
       "      <td>1600</td>\n",
       "      <td>train_data/images/1600.jpg</td>\n",
       "      <td>人間の條件　第１部純愛篇／第２部激怒篇</td>\n",
       "      <td>False</td>\n",
       "      <td>8.5</td>\n",
       "    </tr>\n",
       "    <tr>\n",
       "      <th>1074</th>\n",
       "      <td>1074</td>\n",
       "      <td>train_data/images/1074.jpg</td>\n",
       "      <td>Снежная королева 3. Огонь и лед</td>\n",
       "      <td>True</td>\n",
       "      <td>8.5</td>\n",
       "    </tr>\n",
       "    <tr>\n",
       "      <th>483</th>\n",
       "      <td>483</td>\n",
       "      <td>train_data/images/483.jpg</td>\n",
       "      <td>The Godfather</td>\n",
       "      <td>False</td>\n",
       "      <td>8.5</td>\n",
       "    </tr>\n",
       "    <tr>\n",
       "      <th>2057</th>\n",
       "      <td>2057</td>\n",
       "      <td>train_data/images/2057.jpg</td>\n",
       "      <td>リトル・フォレスト　冬・春</td>\n",
       "      <td>False</td>\n",
       "      <td>8.4</td>\n",
       "    </tr>\n",
       "    <tr>\n",
       "      <th>1975</th>\n",
       "      <td>1975</td>\n",
       "      <td>train_data/images/1975.jpg</td>\n",
       "      <td>Psy</td>\n",
       "      <td>False</td>\n",
       "      <td>8.4</td>\n",
       "    </tr>\n",
       "    <tr>\n",
       "      <th>496</th>\n",
       "      <td>496</td>\n",
       "      <td>train_data/images/496.jpg</td>\n",
       "      <td>The Mummy's Tomb</td>\n",
       "      <td>False</td>\n",
       "      <td>8.3</td>\n",
       "    </tr>\n",
       "    <tr>\n",
       "      <th>2686</th>\n",
       "      <td>2686</td>\n",
       "      <td>train_data/images/2686.jpg</td>\n",
       "      <td>The Godfather: Part II</td>\n",
       "      <td>False</td>\n",
       "      <td>8.3</td>\n",
       "    </tr>\n",
       "    <tr>\n",
       "      <th>2578</th>\n",
       "      <td>2578</td>\n",
       "      <td>train_data/images/2578.jpg</td>\n",
       "      <td>The Dark Knight</td>\n",
       "      <td>False</td>\n",
       "      <td>8.3</td>\n",
       "    </tr>\n",
       "    <tr>\n",
       "      <th>1485</th>\n",
       "      <td>1485</td>\n",
       "      <td>train_data/images/1485.jpg</td>\n",
       "      <td>Psycho</td>\n",
       "      <td>False</td>\n",
       "      <td>8.3</td>\n",
       "    </tr>\n",
       "    <tr>\n",
       "      <th>1592</th>\n",
       "      <td>1592</td>\n",
       "      <td>train_data/images/1592.jpg</td>\n",
       "      <td>Corto Maltese: Sous le Signe du Capricorne</td>\n",
       "      <td>True</td>\n",
       "      <td>8.3</td>\n",
       "    </tr>\n",
       "    <tr>\n",
       "      <th>760</th>\n",
       "      <td>760</td>\n",
       "      <td>train_data/images/760.jpg</td>\n",
       "      <td>僕等がいた 後篇</td>\n",
       "      <td>False</td>\n",
       "      <td>8.3</td>\n",
       "    </tr>\n",
       "    <tr>\n",
       "      <th>124</th>\n",
       "      <td>124</td>\n",
       "      <td>train_data/images/124.jpg</td>\n",
       "      <td>リトル・フォレスト 夏・秋</td>\n",
       "      <td>False</td>\n",
       "      <td>8.3</td>\n",
       "    </tr>\n",
       "  </tbody>\n",
       "</table>\n",
       "</div>"
      ],
      "text/plain": [
       "       idx                       image  \\\n",
       "2412  2412  train_data/images/2412.jpg   \n",
       "2615  2615  train_data/images/2615.jpg   \n",
       "2503  2503  train_data/images/2503.jpg   \n",
       "2193  2193  train_data/images/2193.jpg   \n",
       "1754  1754  train_data/images/1754.jpg   \n",
       "319    319   train_data/images/319.jpg   \n",
       "1784  1784  train_data/images/1784.jpg   \n",
       "566    566   train_data/images/566.jpg   \n",
       "1600  1600  train_data/images/1600.jpg   \n",
       "1074  1074  train_data/images/1074.jpg   \n",
       "483    483   train_data/images/483.jpg   \n",
       "2057  2057  train_data/images/2057.jpg   \n",
       "1975  1975  train_data/images/1975.jpg   \n",
       "496    496   train_data/images/496.jpg   \n",
       "2686  2686  train_data/images/2686.jpg   \n",
       "2578  2578  train_data/images/2578.jpg   \n",
       "1485  1485  train_data/images/1485.jpg   \n",
       "1592  1592  train_data/images/1592.jpg   \n",
       "760    760   train_data/images/760.jpg   \n",
       "124    124   train_data/images/124.jpg   \n",
       "\n",
       "                                           title  is_animation  score  \n",
       "2412                            Bowery Battalion         False   10.0  \n",
       "2615                                    僕等がいた 前篇         False    9.0  \n",
       "2503                                  Bloodfight         False    9.0  \n",
       "2193       Dreileben: Etwas Besseres als den Tod         False    9.0  \n",
       "1754                               傷物語　第二部〈Ⅱ熱血篇〉          True    8.9  \n",
       "319                          人間の條件　第３部望郷篇／第４部戦雲篇         False    8.5  \n",
       "1784                  Furia à Bahia pour OSS 117         False    8.5  \n",
       "566                                   Üvegtigris         False    8.5  \n",
       "1600                         人間の條件　第１部純愛篇／第２部激怒篇         False    8.5  \n",
       "1074             Снежная королева 3. Огонь и лед          True    8.5  \n",
       "483                                The Godfather         False    8.5  \n",
       "2057                               リトル・フォレスト　冬・春         False    8.4  \n",
       "1975                                         Psy         False    8.4  \n",
       "496                             The Mummy's Tomb         False    8.3  \n",
       "2686                      The Godfather: Part II         False    8.3  \n",
       "2578                             The Dark Knight         False    8.3  \n",
       "1485                                      Psycho         False    8.3  \n",
       "1592  Corto Maltese: Sous le Signe du Capricorne          True    8.3  \n",
       "760                                     僕等がいた 後篇         False    8.3  \n",
       "124                                リトル・フォレスト 夏・秋         False    8.3  "
      ]
     },
     "execution_count": 9,
     "metadata": {},
     "output_type": "execute_result"
    }
   ],
   "source": [
    "train_df.sort_values(by='score', ascending=False).head(20)"
   ]
  },
  {
   "cell_type": "code",
   "execution_count": 10,
   "metadata": {},
   "outputs": [
    {
     "data": {
      "text/html": [
       "<div>\n",
       "<style scoped>\n",
       "    .dataframe tbody tr th:only-of-type {\n",
       "        vertical-align: middle;\n",
       "    }\n",
       "\n",
       "    .dataframe tbody tr th {\n",
       "        vertical-align: top;\n",
       "    }\n",
       "\n",
       "    .dataframe thead th {\n",
       "        text-align: right;\n",
       "    }\n",
       "</style>\n",
       "<table border=\"1\" class=\"dataframe\">\n",
       "  <thead>\n",
       "    <tr style=\"text-align: right;\">\n",
       "      <th></th>\n",
       "      <th>idx</th>\n",
       "      <th>image</th>\n",
       "      <th>title</th>\n",
       "      <th>is_animation</th>\n",
       "      <th>score</th>\n",
       "    </tr>\n",
       "  </thead>\n",
       "  <tbody>\n",
       "    <tr>\n",
       "      <th>0</th>\n",
       "      <td>0</td>\n",
       "      <td>train_data/images/0.jpg</td>\n",
       "      <td>バトル・ロワイアル</td>\n",
       "      <td>False</td>\n",
       "      <td>7.3</td>\n",
       "    </tr>\n",
       "    <tr>\n",
       "      <th>1</th>\n",
       "      <td>1</td>\n",
       "      <td>train_data/images/1.jpg</td>\n",
       "      <td>Return of the Seven</td>\n",
       "      <td>False</td>\n",
       "      <td>5.3</td>\n",
       "    </tr>\n",
       "    <tr>\n",
       "      <th>3</th>\n",
       "      <td>3</td>\n",
       "      <td>train_data/images/3.jpg</td>\n",
       "      <td>無間道III: 終極無間</td>\n",
       "      <td>False</td>\n",
       "      <td>7.0</td>\n",
       "    </tr>\n",
       "    <tr>\n",
       "      <th>4</th>\n",
       "      <td>4</td>\n",
       "      <td>train_data/images/4.jpg</td>\n",
       "      <td>The Net</td>\n",
       "      <td>False</td>\n",
       "      <td>5.6</td>\n",
       "    </tr>\n",
       "    <tr>\n",
       "      <th>5</th>\n",
       "      <td>5</td>\n",
       "      <td>train_data/images/5.jpg</td>\n",
       "      <td>Che: Part Two</td>\n",
       "      <td>False</td>\n",
       "      <td>6.7</td>\n",
       "    </tr>\n",
       "    <tr>\n",
       "      <th>...</th>\n",
       "      <td>...</td>\n",
       "      <td>...</td>\n",
       "      <td>...</td>\n",
       "      <td>...</td>\n",
       "      <td>...</td>\n",
       "    </tr>\n",
       "    <tr>\n",
       "      <th>2734</th>\n",
       "      <td>2734</td>\n",
       "      <td>train_data/images/2734.jpg</td>\n",
       "      <td>Alex Cross</td>\n",
       "      <td>False</td>\n",
       "      <td>5.1</td>\n",
       "    </tr>\n",
       "    <tr>\n",
       "      <th>2736</th>\n",
       "      <td>2736</td>\n",
       "      <td>train_data/images/2736.jpg</td>\n",
       "      <td>Les Ripoux</td>\n",
       "      <td>False</td>\n",
       "      <td>6.5</td>\n",
       "    </tr>\n",
       "    <tr>\n",
       "      <th>2737</th>\n",
       "      <td>2737</td>\n",
       "      <td>train_data/images/2737.jpg</td>\n",
       "      <td>Быстрее, чем кролики</td>\n",
       "      <td>False</td>\n",
       "      <td>6.3</td>\n",
       "    </tr>\n",
       "    <tr>\n",
       "      <th>2739</th>\n",
       "      <td>2739</td>\n",
       "      <td>train_data/images/2739.jpg</td>\n",
       "      <td>Sherlock Holmes Faces Death</td>\n",
       "      <td>False</td>\n",
       "      <td>7.2</td>\n",
       "    </tr>\n",
       "    <tr>\n",
       "      <th>2740</th>\n",
       "      <td>2740</td>\n",
       "      <td>train_data/images/2740.jpg</td>\n",
       "      <td>Sniper</td>\n",
       "      <td>False</td>\n",
       "      <td>5.9</td>\n",
       "    </tr>\n",
       "  </tbody>\n",
       "</table>\n",
       "<p>2303 rows × 5 columns</p>\n",
       "</div>"
      ],
      "text/plain": [
       "       idx                       image                        title  \\\n",
       "0        0     train_data/images/0.jpg                    バトル・ロワイアル   \n",
       "1        1     train_data/images/1.jpg          Return of the Seven   \n",
       "3        3     train_data/images/3.jpg                 無間道III: 終極無間   \n",
       "4        4     train_data/images/4.jpg                      The Net   \n",
       "5        5     train_data/images/5.jpg                Che: Part Two   \n",
       "...    ...                         ...                          ...   \n",
       "2734  2734  train_data/images/2734.jpg                   Alex Cross   \n",
       "2736  2736  train_data/images/2736.jpg                   Les Ripoux   \n",
       "2737  2737  train_data/images/2737.jpg         Быстрее, чем кролики   \n",
       "2739  2739  train_data/images/2739.jpg  Sherlock Holmes Faces Death   \n",
       "2740  2740  train_data/images/2740.jpg                       Sniper   \n",
       "\n",
       "      is_animation  score  \n",
       "0            False    7.3  \n",
       "1            False    5.3  \n",
       "3            False    7.0  \n",
       "4            False    5.6  \n",
       "5            False    6.7  \n",
       "...            ...    ...  \n",
       "2734         False    5.1  \n",
       "2736         False    6.5  \n",
       "2737         False    6.3  \n",
       "2739         False    7.2  \n",
       "2740         False    5.9  \n",
       "\n",
       "[2303 rows x 5 columns]"
      ]
     },
     "execution_count": 10,
     "metadata": {},
     "output_type": "execute_result"
    }
   ],
   "source": [
    "train_df[train_df.is_animation == False]"
   ]
  },
  {
   "cell_type": "markdown",
   "metadata": {},
   "source": [
    "**Теперь мы можем ответить на вопрос, какую метрику использовать**"
   ]
  },
  {
   "cell_type": "markdown",
   "metadata": {},
   "source": [
    "Давайте также посмотрим на примеры картинок, с которыми мы будем работать"
   ]
  },
  {
   "cell_type": "code",
   "execution_count": null,
   "metadata": {},
   "outputs": [],
   "source": [
    "import matplotlib.pyplot as plt\n",
    "import seaborn as sns\n",
    "%matplotlib inline\n",
    "sns.set_context('poster')\n",
    "\n",
    "import cv2"
   ]
  },
  {
   "cell_type": "code",
   "execution_count": null,
   "metadata": {},
   "outputs": [],
   "source": [
    "import numpy as np\n",
    "def visualize_examples(images, cols=3, titles=None):\n",
    "    assert len(images) == len(titles)\n",
    "    n_images = len(images)\n",
    "    fig = plt.figure()\n",
    "    for n, (image, title) in enumerate(zip(images, titles)):\n",
    "        a = fig.add_subplot(cols, np.ceil(n_images/float(cols)), n + 1)\n",
    "        if image.ndim == 2:\n",
    "            plt.gray()\n",
    "        plt.imshow(image)\n",
    "        plt.axis('off')\n",
    "        a.set_title(title)\n",
    "    fig.set_size_inches(np.array(fig.get_size_inches()) * n_images)\n",
    "    plt.show()"
   ]
  },
  {
   "cell_type": "code",
   "execution_count": null,
   "metadata": {},
   "outputs": [],
   "source": [
    "train_animation_sample = train_df[train_df.is_animation == True].head(9)\n",
    "animation_examples = [cv2.imread(path)[:, :, ::-1] for path in train_animation_sample['image']]\n",
    "visualize_examples(animation_examples, titles=train_animation_sample['title'])"
   ]
  },
  {
   "cell_type": "code",
   "execution_count": null,
   "metadata": {},
   "outputs": [],
   "source": [
    "train_not_animation_sample = train_df[train_df.is_animation == False].head(9)\n",
    "regular_examples = [cv2.imread(path)[:, :, ::-1] for path in train_not_animation_sample['image']]\n",
    "visualize_examples(regular_examples, titles=train_not_animation_sample['title'])"
   ]
  },
  {
   "cell_type": "markdown",
   "metadata": {},
   "source": [
    "## 3. Придумываем признаки ##"
   ]
  },
  {
   "cell_type": "markdown",
   "metadata": {},
   "source": [
    "Как и в случае с детектором смен сцен, нам нужно придумать признаки, которые бы неплохо описывали природу исхожного изображения "
   ]
  },
  {
   "cell_type": "markdown",
   "metadata": {},
   "source": [
    "**Вопрос.** Какие признаки будем использовать?"
   ]
  },
  {
   "cell_type": "code",
   "execution_count": null,
   "metadata": {},
   "outputs": [],
   "source": [
    "from tqdm.notebook import tqdm"
   ]
  },
  {
   "cell_type": "code",
   "execution_count": null,
   "metadata": {},
   "outputs": [],
   "source": [
    "def features_function(image):\n",
    "    return {'pixel': image[0, 0, 0]}"
   ]
  },
  {
   "cell_type": "code",
   "execution_count": null,
   "metadata": {},
   "outputs": [],
   "source": [
    "def generate_table(data):\n",
    "    table = []\n",
    "    for node in tqdm(data):\n",
    "        current_features = {}\n",
    "        image = cv2.imread(node['image'])\n",
    "        \n",
    "        current_features.update(features_function(image))\n",
    "        \n",
    "        current_features['is_animation'] = node['is_animation']\n",
    "        table.append(current_features)\n",
    "    return table"
   ]
  },
  {
   "cell_type": "code",
   "execution_count": null,
   "metadata": {},
   "outputs": [],
   "source": [
    "train_features = pd.DataFrame(generate_table(train_data))\n",
    "test_features = pd.DataFrame(generate_table(test_data))"
   ]
  },
  {
   "cell_type": "markdown",
   "metadata": {},
   "source": [
    "## 4. Science staff ##"
   ]
  },
  {
   "cell_type": "markdown",
   "metadata": {},
   "source": [
    "<img src=\"files/science.jpg\">"
   ]
  },
  {
   "cell_type": "markdown",
   "metadata": {},
   "source": [
    "Если бы мы решали задачу обычным способом, то нам пришлось бы писать какие-то условия, выставлять пороги и т.д поверх наших признаков. По сути, машинное обучение будет решать эту задачу за нас.  \n",
    "Существует очень много методов машинного обучения, каждый из них в определённых условиях может работать лучше. Чтобы понимать заранее, когда какой метод лучше использовать, нужно понимать их теорию, но мы всегда сможем перебрать все способы :3"
   ]
  },
  {
   "cell_type": "code",
   "execution_count": null,
   "metadata": {},
   "outputs": [],
   "source": [
    "from sklearn.ensemble import RandomForestClassifier\n",
    "#from sklearn.linear_model import LogisticRegression"
   ]
  },
  {
   "cell_type": "code",
   "execution_count": null,
   "metadata": {},
   "outputs": [],
   "source": [
    "train_X = train_features.drop('is_animation', axis=1)\n",
    "train_y = train_features['is_animation']"
   ]
  },
  {
   "cell_type": "code",
   "execution_count": null,
   "metadata": {},
   "outputs": [],
   "source": [
    "test_X = test_features.drop('is_animation', axis=1)\n",
    "test_y = test_features['is_animation']"
   ]
  },
  {
   "cell_type": "code",
   "execution_count": null,
   "metadata": {},
   "outputs": [],
   "source": [
    "from sklearn.metrics import roc_auc_score, f1_score, accuracy_score, precision_score"
   ]
  },
  {
   "cell_type": "code",
   "execution_count": null,
   "metadata": {},
   "outputs": [],
   "source": [
    "#clf = LogisticRegression(C=1000)\n",
    "clf = RandomForestClassifier()"
   ]
  },
  {
   "cell_type": "code",
   "execution_count": null,
   "metadata": {},
   "outputs": [],
   "source": [
    "clf.fit(train_X, train_y)"
   ]
  },
  {
   "cell_type": "code",
   "execution_count": null,
   "metadata": {},
   "outputs": [],
   "source": [
    "train_Y = clf.predict(train_X)\n",
    "test_Y = clf.predict(test_X)"
   ]
  },
  {
   "cell_type": "code",
   "execution_count": null,
   "metadata": {},
   "outputs": [],
   "source": [
    "print('Метрика на тренировочной выборке', {Вставьте имя метрики}(train_y, train_Y))\n",
    "print('Метрика на контрольной выборке', {Вставьте имя метрики}(test_y, test_Y))"
   ]
  },
  {
   "cell_type": "markdown",
   "metadata": {},
   "source": [
    "**Вопрос.** Почему на тренировочной выборке метрика лучше, чем на контрольной? Верно ли, что если на тренировочной выборке у одного алгоритма качество лучше, чем у второго, то будет ли метрика лучше на контрольной?"
   ]
  },
  {
   "cell_type": "markdown",
   "metadata": {},
   "source": [
    "## 5. Эксперименты и что может пойти не так ##"
   ]
  },
  {
   "cell_type": "markdown",
   "metadata": {},
   "source": [
    "Во-первых, нам немного повезло — у нас есть контрольная выборка, на которой мы всегда можем проверить качество на ней. Вообще стоит сказать, что в первую очередь стоит обращать внимание на качество именно на контрольной выборке (на которой мы не обучались), так как она именно показывает способность обобщать знания, полученные на тренировочной выборке.\n",
    "\n",
    "В задача детектора смены сцен контрльной выборке нет — её нужно создать самому, отделив какую-то часть из тренировочной."
   ]
  },
  {
   "cell_type": "code",
   "execution_count": null,
   "metadata": {},
   "outputs": [],
   "source": [
    "from sklearn.model_selection import train_test_split\n",
    "# Разделить выборку на тренировочную и валидационную. В валидационной выборке окажется 20% всех примеров\n",
    "new_train, new_val = train_test_split(train_data, test_size=0.2) "
   ]
  },
  {
   "cell_type": "markdown",
   "metadata": {},
   "source": [
    "Другой вариант — использовать кросс-валидацию, когда алгоритм обучается несколько раз, для каждого алгоритма исключается из тренировочной выборки небольшая часть примеров, на которых затем замеряются метрики."
   ]
  },
  {
   "cell_type": "markdown",
   "metadata": {},
   "source": [
    "<img src=\"files/cv.png\">"
   ]
  },
  {
   "cell_type": "markdown",
   "metadata": {},
   "source": [
    "Что ещё может пойти не так при замере метрик? В тренировочной и контрольной выборки должны быть более-менее независимые примеры. Например, в задании выше вполне могло оказаться, чтобы кадр из \"Истории игрушек\" был в обучении, а кадр из \"Истории игрушек 2\" оказался в контрольной выборке. Так делать нельзя, и такие ошибки приводят к большим расстройствам при оглашении результатов задания. "
   ]
  },
  {
   "cell_type": "markdown",
   "metadata": {},
   "source": [
    "Во-вторых, нам немного повезло, что мы достаточно быстро получили хорошее решение, и мы не пытаемся никак его улучшить. Улучшить алгоритм можно несколькими способами — например, добавить новые признаки, или опробовать новый классификатор. Важно использовать принцип \"одно изменение = один эксперимент\", т.е нельзя сравнивать алгоритм с предыдущей версией после 10 изменений — можно пропустить и хорошее изменение вместе с несколькими плохими, и наоборот, добавить несколько плохих изменений вместе с хорошими"
   ]
  },
  {
   "cell_type": "markdown",
   "metadata": {},
   "source": [
    "В-третьих, данных может быть мало. Чтобы увеличить выборку, можно попробовать поворачивать/увеличивать/обрезать/менять яркость или контрастность. Это называется аугментацией"
   ]
  },
  {
   "cell_type": "markdown",
   "metadata": {},
   "source": [
    "## 6. Немного контрольных вопросов ##"
   ]
  },
  {
   "cell_type": "markdown",
   "metadata": {},
   "source": [
    "Попробуйте ответить на следующие вопросы:\n",
    "* Пусть мы пытаемся определить фотографии кошек от фотографий собак. В тренировочной выборке около 500 кошек и 500 собак. Какие метрики качества можно использовать?\n",
    "* Какие признаки стоит ещё попробовать для решения текущей задачи?\n",
    "* Представим, что в текущей задаче было бы не по одному кадру из фильма, а по 10-20 штук. Как в таком случае разделить выборку на тренировочную и контрольную самым правильным способом?"
   ]
  }
 ],
 "metadata": {
  "kernelspec": {
   "display_name": "Python 3",
   "language": "python",
   "name": "python3"
  },
  "language_info": {
   "codemirror_mode": {
    "name": "ipython",
    "version": 3
   },
   "file_extension": ".py",
   "mimetype": "text/x-python",
   "name": "python",
   "nbconvert_exporter": "python",
   "pygments_lexer": "ipython3",
   "version": "3.7.1"
  }
 },
 "nbformat": 4,
 "nbformat_minor": 2
}
