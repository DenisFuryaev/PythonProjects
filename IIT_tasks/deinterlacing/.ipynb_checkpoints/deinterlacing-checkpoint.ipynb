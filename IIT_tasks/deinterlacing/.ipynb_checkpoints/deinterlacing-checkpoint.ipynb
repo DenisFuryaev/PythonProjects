{
 "cells": [
  {
   "cell_type": "markdown",
   "metadata": {},
   "source": [
    "# Задание №2. Деинтерлейсинг"
   ]
  },
  {
   "cell_type": "markdown",
   "metadata": {},
   "source": [
    "## Описание\n",
    "\n",
    "Задание разделено на 2 большие части:"
   ]
  },
  {
   "cell_type": "markdown",
   "metadata": {},
   "source": [
    "### 1. Эвристический алгоритм\n",
    "\n",
    "Реализовать эвристический алгоритм деинтерлейсинга, основанный на любых алгоритмах, расказанных (и не расказанных) на лекции.\n",
    "\n",
    "**Требования**:\n",
    "* работает не дольше 1 FPS\n",
    "* использует _только_ те пакеты, которые указаны в файле `requirements.txt`"
   ]
  },
  {
   "cell_type": "markdown",
   "metadata": {},
   "source": [
    "### 2. Нейросетевой алгоритм\n",
    "\n",
    "Реализовать нейросетевой алгоритм деинтерлейсинга.\n",
    "\n",
    "**Требования**:\n",
    "* модель реализована на фреймворке TensorFlow / Keras\n",
    "* обучение происходило _только_ на предоставленной обучающей выборке (но можно использовать разумное размножение выборки)"
   ]
  },
  {
   "cell_type": "markdown",
   "metadata": {},
   "source": [
    "### Общие требования\n",
    "\n",
    "* соблюдать [кодекс чести](https://communitystandards.stanford.edu/policies-and-guidance/honor-code). Виновные будут найдены и наказаны."
   ]
  },
  {
   "cell_type": "markdown",
   "metadata": {},
   "source": [
    "## Оценивание\n",
    "\n",
    "1. Каждый участник может представить не более 1 эвристического алгоритма и не более 1 нейросетевого алгоритма для финального   тестирования\n",
    "\n",
    "2. Тестирование будет проводиться на закрытой тестовой выборке, содержащей N (N < 10) тестовых видео\n",
    "\n",
    "3. В качестве метрик будут использованы:\n",
    "    * PSNR\n",
    "    * SSIM\n",
    "    \n",
    "4. По итогам тестирования будет составлена общая таблица результатов по каждой из метрик\n",
    "\n",
    "5. Место каждого алгоритма определяется по формуле: $Place_{algo} = \\frac{Place_{PSNR} + Place_{SSIM}}{2}$\n",
    "\n",
    "6. Баллы за конкретный алгоритм зависят от его места: $Score_{algo} = score(Place_{algo})$\n",
    "\n",
    "7. Баллы участника складываются из баллов за эвристический алгоритм и нейросетевой алгоритм: $Score_{stud} = Score_{heuristic}^{stud} + Score_{neural}^{stud}$\n",
    "\n",
    "8. Если какой-либо алгоритм не представлен студентом или не выполнены _требования_ — это эквивалентно обнулению соответствующего значения: $Score_{algo}^{stud} = 0$"
   ]
  },
  {
   "cell_type": "markdown",
   "metadata": {},
   "source": [
    "## Повторение"
   ]
  },
  {
   "cell_type": "markdown",
   "metadata": {},
   "source": [
    "* [Статья на Хабре](https://habr.com/en/post/51201/) про развёртки\n",
    "* [Статья на Хабре](https://habr.com/en/post/61822/) про методы деинтерлейсинга"
   ]
  },
  {
   "cell_type": "markdown",
   "metadata": {},
   "source": [
    "_Прогрессивная развёртка (построчная развёртка)_ — способ трансляции и хранения видео, при котором в каждом кадре все строки отображаются последовательно."
   ]
  },
  {
   "cell_type": "markdown",
   "metadata": {},
   "source": [
    "_Интерлейсинг (чересстрочная развёртка)_ — способ трансляции и хранения видео, при котором каждый кадр разбивается на два поля (чётное и нечётное)."
   ]
  },
  {
   "cell_type": "markdown",
   "metadata": {},
   "source": [
    "<img src=\"extra/interlacing-scheme.gif\" width=\"300\"/>"
   ]
  },
  {
   "cell_type": "markdown",
   "metadata": {},
   "source": [
    "* _Top Field (Odd Field, чётное поле)_ — чётные строки кадра\n",
    "* _Bottom Field (Even Field, нечётное поле)_ — нечётные строки кадра\n",
    "\n",
    "То, какое поле (чётное или нечётное) отвечает за более ранний момент времени — настраиваемый параметр. Обычно чётное поле по времени не позже нечётного"
   ]
  },
  {
   "cell_type": "markdown",
   "metadata": {},
   "source": [
    "При интерлейсинге:\n",
    "* частота кадров *увеличивается в 2 раза* относительно исходного видео в прогрессивной развёртке\n",
    "* разрешение каждого отдельного кадра *уменьшается в 2 раза*\n",
    "\n",
    "Это происходит из-за того, что в каждый момент времени на экране отображается только один полукадр."
   ]
  },
  {
   "cell_type": "markdown",
   "metadata": {},
   "source": [
    "![interlaced-vs-progressive](extra/interlaced-vs-progressive.jpg)"
   ]
  },
  {
   "cell_type": "markdown",
   "metadata": {},
   "source": [
    "_Деинтерлейсинг_ — преобразование из чересстрочной развёртки в прогрессивную без потери частоты кадров."
   ]
  },
  {
   "cell_type": "markdown",
   "metadata": {},
   "source": [
    "## Часть 1. Эвристический деинтерлейсер"
   ]
  },
  {
   "cell_type": "markdown",
   "metadata": {},
   "source": [
    "Скачайте тестовые данные отсюда: https://titan.gml-team.ru:5003/sharing/W3xvJLC2D"
   ]
  },
  {
   "cell_type": "markdown",
   "metadata": {},
   "source": [
    "Устанавка всего необходимого"
   ]
  },
  {
   "cell_type": "code",
   "execution_count": null,
   "metadata": {},
   "outputs": [],
   "source": [
    "# pip install -r requirements.txt"
   ]
  },
  {
   "cell_type": "markdown",
   "metadata": {},
   "source": [
    "Необходимые импорты"
   ]
  },
  {
   "cell_type": "code",
   "execution_count": null,
   "metadata": {},
   "outputs": [],
   "source": [
    "import cv2                       # Библиотека компьютерного зрения OpenCV.\n",
    "import matplotlib.pyplot as plt  # Пакет PyPlot для визуализаций и графиков.\n",
    "import numpy as np               # Библиотека вычислений NumPy.\n",
    "import os                        # Часть стандартной библиотеки Python, отвечает за системные вызовы.\n",
    "import skimage.metrics\n",
    "from tqdm.notebook import tqdm\n",
    "\n",
    "from measure import (\n",
    "    measure_single               # Эта функция замеряет качество для одного видео по нескольким метрикам.\n",
    ")\n",
    "\n",
    "from utils import (\n",
    "    read_sequence,               # Функция для чтения кадров видео из указанной папки.\n",
    "    save_image_png,              # Функция для сохранения картинки без сжатия, в формате PNG.\n",
    "    save_image_jpg,              # Функция для сохранения картинки со сжатием, в формате JPEG.\n",
    "    extract_fields,              # Функция для извлечения последовательных полей из чересстрочного видео.\n",
    "    rgb2gray\n",
    ")\n",
    "\n",
    "# Устанавливаем размер графиков в более приемлимый для просмотра\n",
    "plt.rcParams['figure.figsize'] = (15.0, 10.0)\n",
    "\n",
    "# Папка с видео в чересстрочной развёртке.\n",
    "INTERLACE_VIDEO_DIR = '../new_dataset/interlace/'\n",
    "\n",
    "# Папка с теми же видео в прогрессивной развёртке.\n",
    "# GT_VIDEO_DIR = '../data/gt/'\n",
    "GT_VIDEO_DIR = '../new_dataset/gt/'"
   ]
  },
  {
   "cell_type": "markdown",
   "metadata": {},
   "source": [
    "### Бэйзлайн: алгоритм Bob\n",
    "В качестве отправной точки возьмём простейший алгоритм Bob.\n",
    "\n",
    "Краткое напоминание о том, как он работает:\n",
    "\\begin{equation}\n",
    "  Pixel_k(x, y) = \\begin{cases}\n",
    "    Pixel_k(x, y), & \\text{if $y + k = 0$ mod $2$},\\\\\n",
    "    \\frac{Pixel_k(x, y - 1) + Pixel_k(x, y + 1)}{2}, & \\text{otherwise}.\n",
    "  \\end{cases}\n",
    "\\end{equation}\n",
    "где $k$ — номер кадра в чересстрочной видеопоследовательности."
   ]
  },
  {
   "cell_type": "code",
   "execution_count": null,
   "metadata": {},
   "outputs": [],
   "source": [
    "def deinterlace_bob(fields, top_frame_first=True):\n",
    "    num_frames, height, width, num_channels = fields.shape\n",
    "    # Выделяем память под все итоговые кадры\n",
    "    deinterlaced = np.zeros((num_frames, height * 2, width, num_channels), dtype='uint8')\n",
    "    \n",
    "    for index, field in enumerate(tqdm(fields)):\n",
    "        for row in range(height * 2):\n",
    "            residual = (row + index) % 2\n",
    "            field_row = (row - residual) // 2\n",
    "            \n",
    "            if (top_frame_first and residual == 0) or (not top_frame_first and residual == 1):\n",
    "                deinterlaced[index, row] = field[field_row]\n",
    "            else:\n",
    "                if field_row < 0:\n",
    "                    # Важно приводить к uint8\n",
    "                    deinterlaced[index, row] = (field[0] / 2).astype('uint8')\n",
    "                elif field_row + 1 >= height:\n",
    "                    deinterlaced[index, row] = (field[-1] / 2).astype('uint8')\n",
    "                else:\n",
    "                    deinterlaced[index, row] = \\\n",
    "                        np.rint(field[field_row] / 2 + field[field_row + 1] / 2).astype('uint8')\n",
    "                    \n",
    "    return deinterlaced"
   ]
  },
  {
   "cell_type": "markdown",
   "metadata": {},
   "source": [
    "### Проверка работоспособности"
   ]
  },
  {
   "cell_type": "markdown",
   "metadata": {},
   "source": [
    "#### 1. Считываем чересстрочное видео с помощью функции `read_sequence`:"
   ]
  },
  {
   "cell_type": "code",
   "execution_count": null,
   "metadata": {},
   "outputs": [],
   "source": [
    "interlaced_video_folder = os.path.join(INTERLACE_VIDEO_DIR, '04')\n",
    "interlaced = read_sequence(interlaced_video_folder)"
   ]
  },
  {
   "cell_type": "markdown",
   "metadata": {},
   "source": [
    "Первое, что мы должны проверить — размерность полученного тензора.\n",
    "\n",
    "Он представляет собой видео в формате NHWC, где:\n",
    "* N — кол-во кадров\n",
    "* H — высота\n",
    "* W — ширина\n",
    "* С — число каналов, для цветного изображения C = 3"
   ]
  },
  {
   "cell_type": "code",
   "execution_count": null,
   "metadata": {},
   "outputs": [],
   "source": [
    "interlaced.shape"
   ]
  },
  {
   "cell_type": "markdown",
   "metadata": {},
   "source": [
    "Теперь посмотрим, _что_ мы считали. Для этого распечатаем первый кадр с помощью функции `plt.imshow`:"
   ]
  },
  {
   "cell_type": "code",
   "execution_count": null,
   "metadata": {},
   "outputs": [],
   "source": [
    "plt.imshow(interlaced[0])"
   ]
  },
  {
   "cell_type": "markdown",
   "metadata": {},
   "source": [
    "#### 2. Извлекаем последовательные поля из чересстрочного видео:"
   ]
  },
  {
   "cell_type": "code",
   "execution_count": null,
   "metadata": {},
   "outputs": [],
   "source": [
    "fields = extract_fields(interlaced)"
   ]
  },
  {
   "cell_type": "code",
   "execution_count": null,
   "metadata": {},
   "outputs": [],
   "source": [
    "fields.shape"
   ]
  },
  {
   "cell_type": "code",
   "execution_count": null,
   "metadata": {},
   "outputs": [],
   "source": [
    "plt.imshow(fields[0])"
   ]
  },
  {
   "cell_type": "markdown",
   "metadata": {},
   "source": [
    "#### 3. Применяем, наконец, наш алгоритм Bob к последовательным полям:"
   ]
  },
  {
   "cell_type": "code",
   "execution_count": null,
   "metadata": {},
   "outputs": [],
   "source": [
    "deinterlaced = deinterlace_bob(fields)"
   ]
  },
  {
   "cell_type": "code",
   "execution_count": null,
   "metadata": {},
   "outputs": [],
   "source": [
    "deinterlaced.shape"
   ]
  },
  {
   "cell_type": "code",
   "execution_count": null,
   "metadata": {},
   "outputs": [],
   "source": [
    "plt.imshow(deinterlaced[0])"
   ]
  },
  {
   "cell_type": "markdown",
   "metadata": {},
   "source": [
    "### Измерение качества: PSNR, SSIM"
   ]
  },
  {
   "cell_type": "markdown",
   "metadata": {},
   "source": [
    "* [Peak Signal-to-Noise Ratio (PSNR)](https://en.wikipedia.org/wiki/Structural_similarity)\n",
    "* [Structural Similarity (SSIM)](https://en.wikipedia.org/wiki/Peak_signal-to-noise_ratio)\n",
    "\n",
    "PSNR и SSIM — full-reference метрики. Это означает, что для их измерения необходимо иметь GT (ground-truth, исходные данные). Помимо full-reference бывают no-reference метрики, не требующие GT.\n",
    "\n",
    "В нашем случае GT — это видео в progressive-развёртке, из которого было получено interlace-видео искусственным образом."
   ]
  },
  {
   "cell_type": "markdown",
   "metadata": {},
   "source": [
    "Считываем GT-видео:"
   ]
  },
  {
   "cell_type": "code",
   "execution_count": null,
   "metadata": {},
   "outputs": [],
   "source": [
    "gt_video_folder = os.path.join(GT_VIDEO_DIR, '04')\n",
    "gt_video = read_sequence(gt_video_folder)"
   ]
  },
  {
   "cell_type": "code",
   "execution_count": null,
   "metadata": {},
   "outputs": [],
   "source": [
    "plt.imshow(np.abs(gt_video[0].astype('int16') - deinterlaced[0].astype('int16')))"
   ]
  },
  {
   "cell_type": "markdown",
   "metadata": {},
   "source": [
    "Вычислим PSNR и SSIM, выдаваемые нашим Bob'ом.\n",
    "\n",
    "_Замечание_: Вычисление SSIM по целому видео занимает продолжительное время (~10 мин.)"
   ]
  },
  {
   "cell_type": "code",
   "execution_count": null,
   "metadata": {},
   "outputs": [],
   "source": [
    "def _psnr(first, second):\n",
    "    return skimage.metrics.peak_signal_noise_ratio(first, second)\n",
    "\n",
    "def _ssim(first, second):\n",
    "    return skimage.metrics.structural_similarity(first, second, multichannel=True)"
   ]
  },
  {
   "cell_type": "code",
   "execution_count": null,
   "metadata": {},
   "outputs": [],
   "source": [
    "metrics = {\n",
    "    'psnr': _psnr,\n",
    "    'ssim': _ssim\n",
    "}\n",
    "\n",
    "metric_values = measure_single(fields, gt_video, deinterlace_bob, metrics)"
   ]
  },
  {
   "cell_type": "code",
   "execution_count": null,
   "metadata": {},
   "outputs": [],
   "source": [
    "metric_values"
   ]
  },
  {
   "cell_type": "markdown",
   "metadata": {},
   "source": [
    "Теперь ваша задача — максимально улучшить этот результат!"
   ]
  },
  {
   "cell_type": "code",
   "execution_count": null,
   "metadata": {},
   "outputs": [],
   "source": [
    "fields[0].shape"
   ]
  },
  {
   "cell_type": "markdown",
   "metadata": {},
   "source": [
    "### Работа с Optical Flow"
   ]
  },
  {
   "cell_type": "markdown",
   "metadata": {},
   "source": [
    "Определим вспомогательные функции для интерполяции промежуточного кадра. Для вычисления оптического потока будем пользоваться модулем `cv2`"
   ]
  },
  {
   "cell_type": "code",
   "execution_count": null,
   "metadata": {},
   "outputs": [],
   "source": [
    "def warp_image(image, flow, interpolation=cv2.INTER_LANCZOS4):\n",
    "    mid_flow = -flow / 2\n",
    "    \n",
    "    height, width = image.shape[:2]\n",
    "    map_x = np.ones((height, 1)).dot(np.arange(width).reshape((1, width))) + mid_flow[:,:,0]\n",
    "    map_y = np.ones((width, 1)).dot(np.arange(height).reshape((1, height))).T + mid_flow[:,:,1]\n",
    "    \n",
    "    map_x = map_x.astype(np.float32)\n",
    "    map_y = map_y.astype(np.float32)\n",
    "    \n",
    "    return cv2.remap(image, map_x, map_y, interpolation)"
   ]
  },
  {
   "cell_type": "code",
   "execution_count": null,
   "metadata": {},
   "outputs": [],
   "source": [
    "def compute_flow(current_frame, next_frame):\n",
    "    current_frame = cv2.cvtColor(current_frame, cv2.COLOR_RGB2GRAY)\n",
    "    next_frame = cv2.cvtColor(next_frame, cv2.COLOR_RGB2GRAY)\n",
    "    flow = cv2.calcOpticalFlowFarneback(\n",
    "        current_frame, next_frame, flow=None, \n",
    "        pyr_scale=0.5, levels=5, winsize=15, \n",
    "        iterations=5, poly_n=5, poly_sigma=0.5, \n",
    "        flags=cv2.OPTFLOW_FARNEBACK_GAUSSIAN)\n",
    "    \n",
    "    return flow"
   ]
  },
  {
   "cell_type": "code",
   "execution_count": null,
   "metadata": {},
   "outputs": [],
   "source": [
    "def interpolate_frames(frames):\n",
    "    frames = np.array(frames, dtype=np.float32)  # OpenCV может не поддерживать float64\n",
    "    prev_frame = frames[0]\n",
    "    interpolated_frames = []\n",
    "    \n",
    "    for cur_frame in frames[1:]:\n",
    "        flow = compute_flow(prev_frame, cur_frame)\n",
    "        intermediate_frame = warp_image(prev_frame, flow.astype(np.float32))\n",
    "        interpolated_frames.append(intermediate_frame)\n",
    "        prev_frame = cur_frame\n",
    "        \n",
    "    return np.array(interpolated_frames)"
   ]
  },
  {
   "cell_type": "markdown",
   "metadata": {},
   "source": [
    "Теперь можно пользоваться функцией `interpolate_frames()` для того, чтобы интерполировать поля"
   ]
  },
  {
   "cell_type": "code",
   "execution_count": null,
   "metadata": {},
   "outputs": [],
   "source": [
    "interpolated = interpolate_frames(fields[:3:2] / 255.)"
   ]
  },
  {
   "cell_type": "code",
   "execution_count": null,
   "metadata": {},
   "outputs": [],
   "source": [
    "image = np.zeros(interlaced.shape[1:], dtype=np.uint8)"
   ]
  },
  {
   "cell_type": "code",
   "execution_count": null,
   "metadata": {},
   "outputs": [],
   "source": [
    "image[::2] = np.rint(interpolated[0] * 255.).astype(np.uint8)\n",
    "image[1::2] = fields[1]"
   ]
  },
  {
   "cell_type": "code",
   "execution_count": null,
   "metadata": {},
   "outputs": [],
   "source": [
    "plt.imshow(image)"
   ]
  },
  {
   "cell_type": "code",
   "execution_count": null,
   "metadata": {},
   "outputs": [],
   "source": [
    "plt.imshow(np.abs(gt_video[1].astype('int16') - image.astype('int16')))"
   ]
  },
  {
   "cell_type": "markdown",
   "metadata": {},
   "source": [
    "### Your Code"
   ]
  },
  {
   "cell_type": "markdown",
   "metadata": {},
   "source": [
    "Рекомендуем начать с простого алгоритма, добиться его работоспособности и приемлемого качества, а затем итеративно усложнять модель и подбирать параметры. Не забывайте тестироваться на разных видео из датасета :)"
   ]
  },
  {
   "cell_type": "markdown",
   "metadata": {},
   "source": [
    "Следующие функции могут оказаться полезными:\n",
    "* `cv2.calcOpticalFlowFarneback` — вычисляет Optical Flow (подробнее: [док](https://docs.opencv.org/3.4/dc/d6b/group__video__track.html#ga5d10ebbd59fe09c5f650289ec0ece5af), [туториал](https://docs.opencv.org/3.4/d7/d8b/tutorial_py_lucas_kanade.html))"
   ]
  },
  {
   "cell_type": "markdown",
   "metadata": {},
   "source": [
    "Правила сдачи задания:\n",
    " - Комментарий `# GRADED FUNCTION: ...` должен быть первым комментарием в клетке. Его нельзя изменять.\n",
    " - Эта клетка должен быть в единственном экземпляре.\n",
    " - Оцениваться будет только код, написанный внутри функции `deinterlace_video`."
   ]
  },
  {
   "cell_type": "code",
   "execution_count": null,
   "metadata": {},
   "outputs": [],
   "source": [
    "# GRADED FUNCTION: deinterlace_video\n",
    "\n",
    "def deinterlace_video(fields):\n",
    "    num_frames, height, width, num_channels = fields.shape\n",
    "    deinterlaced_video = np.zeros((num_frames, height * 2, width, num_channels), dtype='uint8')\n",
    "    \n",
    "    # PUT YOUR CODE HERE\n",
    "    \n",
    "    return deinterlaced_video"
   ]
  },
  {
   "cell_type": "markdown",
   "metadata": {},
   "source": [
    "Протестируем ваш алгоритм."
   ]
  },
  {
   "cell_type": "code",
   "execution_count": null,
   "metadata": {},
   "outputs": [],
   "source": [
    "metric_values = measure_single(fields, gt_video, deinterlace_video, metrics)\n",
    "metric_values"
   ]
  },
  {
   "cell_type": "markdown",
   "metadata": {},
   "source": [
    "## В следующей серии..."
   ]
  },
  {
   "cell_type": "markdown",
   "metadata": {},
   "source": [
    "## Часть 2. Нейросетевой деинтерлейсер"
   ]
  },
  {
   "cell_type": "markdown",
   "metadata": {},
   "source": [
    "..."
   ]
  },
  {
   "cell_type": "code",
   "execution_count": null,
   "metadata": {},
   "outputs": [],
   "source": []
  }
 ],
 "metadata": {
  "kernelspec": {
   "display_name": "Python 3",
   "language": "python",
   "name": "python3"
  },
  "language_info": {
   "codemirror_mode": {
    "name": "ipython",
    "version": 3
   },
   "file_extension": ".py",
   "mimetype": "text/x-python",
   "name": "python",
   "nbconvert_exporter": "python",
   "pygments_lexer": "ipython3",
   "version": "3.7.1"
  }
 },
 "nbformat": 4,
 "nbformat_minor": 4
}
